{
 "cells": [
  {
   "attachments": {},
   "cell_type": "markdown",
   "metadata": {},
   "source": [
    "Import utils"
   ]
  },
  {
   "cell_type": "code",
   "execution_count": 90,
   "metadata": {},
   "outputs": [],
   "source": [
    "import numpy as np\n",
    "import pandas as pd\n",
    "import matplotlib.pyplot as plt \n",
    "from sklearn.linear_model import LinearRegression\n",
    "import math"
   ]
  },
  {
   "attachments": {},
   "cell_type": "markdown",
   "metadata": {},
   "source": [
    "Helper functions"
   ]
  },
  {
   "cell_type": "code",
   "execution_count": 91,
   "metadata": {},
   "outputs": [],
   "source": [
    "def cleanup(df : pd.DataFrame) -> pd.DataFrame:\n",
    "    columns = list(df)\n",
    "    #clean up all the columns\n",
    "    for i in columns:\n",
    "        if df[i].isnull().sum() > 0:\n",
    "            x = df[i].mean()\n",
    "            df[i].fillna(x, inplace = True)\n",
    "    #drop dups\n",
    "    df.drop_duplicates(inplace = True)\n",
    "    return df\n"
   ]
  },
  {
   "attachments": {},
   "cell_type": "markdown",
   "metadata": {},
   "source": [
    "Function to approximate star mass"
   ]
  },
  {
   "cell_type": "code",
   "execution_count": 92,
   "metadata": {},
   "outputs": [],
   "source": [
    "def findStarMass(luminosity,  a=3.5):\n",
    "    massofsun = 1.988 * (10 **30)     # Kgs\n",
    "    print(np.log10(luminosity ))\n",
    "    return 10 ** (np.log10(luminosity ) / a - math.log10(massofsun))"
   ]
  },
  {
   "attachments": {},
   "cell_type": "markdown",
   "metadata": {},
   "source": [
    "Function to filter main sequence stars"
   ]
  },
  {
   "cell_type": "code",
   "execution_count": 93,
   "metadata": {},
   "outputs": [],
   "source": [
    "def filterMainSequence(df:pd.DataFrame):\n",
    "    return df.loc[df[\"Spectral Class\"] == \"M\" ].copy()"
   ]
  },
  {
   "attachments": {},
   "cell_type": "markdown",
   "metadata": {},
   "source": [
    "Read and clean up the csv file"
   ]
  },
  {
   "cell_type": "code",
   "execution_count": 94,
   "metadata": {},
   "outputs": [],
   "source": [
    "df:pd.DataFrame = pd.read_csv(\"starchart.csv\") \n",
    "df = cleanup(df)"
   ]
  },
  {
   "attachments": {},
   "cell_type": "markdown",
   "metadata": {},
   "source": [
    "## A relationship between mass and radius"
   ]
  },
  {
   "attachments": {},
   "cell_type": "markdown",
   "metadata": {},
   "source": [
    "In order to find a relationship between the mass of a star and it's radius, I had to find the mass of these stars by taking advantage of a relationship between luminosity and mass (relative to the sun) \n",
    "https://en.wikipedia.org/wiki/Mass%E2%80%93luminosity_relation#Distinguishing_between_small_and_large_stellar_masses"
   ]
  },
  {
   "attachments": {},
   "cell_type": "markdown",
   "metadata": {},
   "source": [
    "### Caveats\n",
    "This is imperfect. The formula is an approximation and my implementation is an approximation of this approximation. \n",
    "The formula is meant for finding luminosity based on mass, not necessarily the other way around"
   ]
  },
  {
   "cell_type": "code",
   "execution_count": 95,
   "metadata": {},
   "outputs": [
    {
     "name": "stdout",
     "output_type": "stream",
     "text": [
      "0     -2.619789\n",
      "1     -3.301030\n",
      "2     -3.522879\n",
      "3     -3.698970\n",
      "4     -3.860121\n",
      "         ...   \n",
      "195   -2.568636\n",
      "196   -2.879426\n",
      "197   -2.903090\n",
      "198   -2.187087\n",
      "199   -2.568636\n",
      "Name: Luminosity(L/Lo), Length: 111, dtype: float64\n"
     ]
    }
   ],
   "source": [
    "mainseq = filterMainSequence(df)\n",
    "mainseq[\"mass\"] = findStarMass(mainseq[\"Luminosity(L/Lo)\"])\n",
    "\n",
    "radii = mainseq[[\"Radius(R/Ro)\"]].copy()\n",
    "masses = mainseq[\"mass\"].copy()\n",
    "\n",
    "model = LinearRegression()\n",
    "\n",
    "model.fit( radii, masses)\n",
    "\n",
    "# Predict the dependent variable using the model\n",
    "mass_prediction = model.predict(radii)"
   ]
  },
  {
   "attachments": {},
   "cell_type": "markdown",
   "metadata": {},
   "source": [
    "Displaying the data"
   ]
  },
  {
   "cell_type": "code",
   "execution_count": 96,
   "metadata": {},
   "outputs": [
    {
     "data": {
      "image/png": "[encoded data removed]",
      "text/plain": [
       "<Figure size 640x480 with 1 Axes>"
      ]
     },
     "metadata": {},
     "output_type": "display_data"
    }
   ],
   "source": [
    "plt.scatter( radii, masses)\n",
    "plt.plot(radii, mass_prediction)\n",
    "plt.xlabel(\"radii\")\n",
    "plt.ylabel(\"mass\")\n",
    "plt.title(\"Linear Regression\")\n",
    "plt.savefig(\"mass_vs_radius_of_stars.png\")\n",
    "plt.show()"
   ]
  },
  {
   "attachments": {},
   "cell_type": "markdown",
   "metadata": {},
   "source": [
    "## Harvesting energy\n",
    "Say we had all these stars to our disposal, which stars would be best to harvest energy from?"
   ]
  },
  {
   "attachments": {},
   "cell_type": "markdown",
   "metadata": {},
   "source": [
    "In other words, which star has the highest energy density, or energy / surface area"
   ]
  },
  {
   "attachments": {},
   "cell_type": "markdown",
   "metadata": {},
   "source": [
    "I'm using Luminosity as a proxy for energy, as they are directly proportional. "
   ]
  },
  {
   "cell_type": "code",
   "execution_count": 97,
   "metadata": {},
   "outputs": [],
   "source": [
    "def getSurfaceArea(radius):\n",
    "    return np.square(radius) * np.pi * 4 "
   ]
  },
  {
   "cell_type": "code",
   "execution_count": 98,
   "metadata": {},
   "outputs": [],
   "source": [
    "df[\"surface area\"] = getSurfaceArea(df[\"Radius(R/Ro)\"])\n",
    "df[\"energy/area\"] = df[\"Luminosity(L/Lo)\"] / df[\"surface area\"]\n",
    "\n",
    "sorted = df.sort_values(by=\"energy/area\", ascending=False)"
   ]
  },
  {
   "cell_type": "code",
   "execution_count": 99,
   "metadata": {},
   "outputs": [
    {
     "name": "stdout",
     "output_type": "stream",
     "text": [
      "     Temperature (K)  Luminosity(L/Lo)  Radius(R/Ro)  Absolute magnitude(Mv)  \\\n",
      "150            29560      188000.00000         6.020                   -4.01   \n",
      "214            34190      198200.00000         6.390                   -4.57   \n",
      "215            32460      173800.00000         6.237                   -4.36   \n",
      "159            37800      202900.00000         6.860                   -4.56   \n",
      "101            40000      813000.00000        14.000                   -6.23   \n",
      "..               ...               ...           ...                     ...   \n",
      "135             3243           0.00230         0.730                   14.75   \n",
      "137             3598           0.00110         0.560                   14.26   \n",
      "134             3542           0.00090         0.620                   14.23   \n",
      "131             3607           0.00023         0.380                   10.34   \n",
      "130             3095           0.00019         0.492                   10.87   \n",
      "\n",
      "     Star type  Star color Spectral Class  surface area  energy/area  \n",
      "150          3  Blue-white              B    455.410298   412.814556  \n",
      "214          3        Blue              O    513.111302   386.270970  \n",
      "215          3        Blue              O    488.833941   355.539961  \n",
      "159          3        Blue              O    591.368375   343.102555  \n",
      "101          4        Blue              O   2463.008640   330.084104  \n",
      "..         ...         ...            ...           ...          ...  \n",
      "135          1         Red              M      6.696619     0.000343  \n",
      "137          1         Red              M      3.940814     0.000279  \n",
      "134          1         Red              M      4.830513     0.000186  \n",
      "131          1         Red              M      1.814584     0.000127  \n",
      "130          1         Red              M      3.041866     0.000062  \n",
      "\n",
      "[240 rows x 9 columns]\n"
     ]
    }
   ],
   "source": [
    "print(sorted)"
   ]
  },
  {
   "attachments": {},
   "cell_type": "markdown",
   "metadata": {},
   "source": [
    "## Is there a relation between star color and energy density?"
   ]
  },
  {
   "cell_type": "code",
   "execution_count": 100,
   "metadata": {},
   "outputs": [],
   "source": [
    "def findMeanDensity(star_colors, df):\n",
    "    arr = []\n",
    "    \n",
    "    for i in star_colors:\n",
    "        filteredDF = df[df[\"Star color\"] == i]\n",
    "        mean = filteredDF[\"energy/area\"].mean()\n",
    "        arr.append(mean)\n",
    "        \n",
    "        \n",
    "    \n",
    "    return arr\n",
    "\n",
    "def shortenName(strList):\n",
    "    res = []\n",
    "    for i in strList:\n",
    "        \n",
    "        stringres = \"\"\n",
    "        for j in i.split():\n",
    "            stringres += i[0]\n",
    "        res.append(stringres)\n",
    "\n",
    "        \n",
    "    return res"
   ]
  },
  {
   "cell_type": "code",
   "execution_count": 101,
   "metadata": {},
   "outputs": [
    {
     "name": "stdout",
     "output_type": "stream",
     "text": [
      "['B', 'B', 'BB', 'BB', 'BB', 'B', 'B', 'O', 'O', 'PPP', 'R', 'W', 'W', 'W', 'Y', 'YY', 'w', 'y', 'y']\n"
     ]
    }
   ],
   "source": [
    "#separating values\n",
    "star_color = df[\"Star color\"].sort_values()\n",
    "star_color = star_color.drop_duplicates()\n",
    "\n",
    "density = findMeanDensity(star_color, df)\n",
    "star_color = shortenName(star_color)\n",
    "print(star_color)"
   ]
  },
  {
   "cell_type": "code",
   "execution_count": 102,
   "metadata": {},
   "outputs": [
    {
     "data": {
      "image/png": "[encoded data removed]",
      "text/plain": [
       "<Figure size 640x480 with 1 Axes>"
      ]
     },
     "metadata": {},
     "output_type": "display_data"
    }
   ],
   "source": [
    "plt.bar(star_color, density)\n",
    "\n",
    "plt.xlabel('Color')\n",
    "plt.ylabel('luminosity')\n",
    "\n",
    "plt.savefig(\"star_color_vs_energy_density.png\")\n",
    "plt.show()"
   ]
  }
 ],
 "metadata": {
  "kernelspec": {
   "display_name": "acm-research-23",
   "language": "python",
   "name": "python3"
  },
  "language_info": {
   "codemirror_mode": {
    "name": "ipython",
    "version": 3
   },
   "file_extension": ".py",
   "mimetype": "text/x-python",
   "name": "python",
   "nbconvert_exporter": "python",
   "pygments_lexer": "ipython3",
   "version": "3.10.8"
  },
  "orig_nbformat": 4,
  "vscode": {
   "interpreter": {
    "hash": "fb3d8762022206fe54a33f2603a5216190f1791597aac8a361ebc472a579128c"
   }
  }
 },
 "nbformat": 4,
 "nbformat_minor": 2
}
